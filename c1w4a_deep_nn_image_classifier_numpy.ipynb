{
  "nbformat": 4,
  "nbformat_minor": 0,
  "metadata": {
    "colab": {
      "provenance": [],
      "authorship_tag": "ABX9TyOGbD+8zy/vCspGLoXvtQ34",
      "include_colab_link": true
    },
    "kernelspec": {
      "name": "python3",
      "display_name": "Python 3"
    },
    "language_info": {
      "name": "python"
    }
  },
  "cells": [
    {
      "cell_type": "markdown",
      "metadata": {
        "id": "view-in-github",
        "colab_type": "text"
      },
      "source": [
        "<a href=\"https://colab.research.google.com/github/yashnagrawal/image_classifier_deep_nn_numpy/blob/main/c1w4a_deep_nn_image_classifier_numpy.ipynb\" target=\"_parent\"><img src=\"https://colab.research.google.com/assets/colab-badge.svg\" alt=\"Open In Colab\"/></a>"
      ]
    },
    {
      "cell_type": "code",
      "execution_count": null,
      "metadata": {
        "id": "Ei7c3uKvikk6",
        "colab": {
          "base_uri": "https://localhost:8080/"
        },
        "outputId": "4556c044-3712-4472-9bf9-ae961d2ef57b"
      },
      "outputs": [
        {
          "output_type": "stream",
          "name": "stdout",
          "text": [
            "Archive:  W4A2.zip\n",
            "   creating: W4A2/\n",
            "  inflating: __MACOSX/._W4A2         \n",
            "  inflating: W4A2/.hidden            \n",
            "  inflating: __MACOSX/W4A2/._.hidden  \n",
            "  inflating: W4A2/public_tests.py    \n",
            "  inflating: __MACOSX/W4A2/._public_tests.py  \n",
            "  inflating: W4A2/test_utils.py      \n",
            "  inflating: __MACOSX/W4A2/._test_utils.py  \n",
            "  inflating: W4A2/.DS_Store          \n",
            "  inflating: __MACOSX/W4A2/._.DS_Store  \n",
            "  inflating: W4A2/Deep Neural Network - Application.ipynb  \n",
            "  inflating: __MACOSX/W4A2/._Deep Neural Network - Application.ipynb  \n",
            "   creating: W4A2/images/\n",
            "  inflating: __MACOSX/W4A2/._images  \n",
            "  inflating: W4A2/dnn_app_utils_v3.py  \n",
            "  inflating: __MACOSX/W4A2/._dnn_app_utils_v3.py  \n",
            "  inflating: W4A2/.hidden.save       \n",
            "  inflating: __MACOSX/W4A2/._.hidden.save  \n",
            "   creating: W4A2/datasets/\n",
            "  inflating: __MACOSX/W4A2/._datasets  \n",
            "   creating: W4A2/__pycache__/\n",
            "  inflating: __MACOSX/W4A2/.___pycache__  \n",
            "   creating: W4A2/.ipynb_checkpoints/\n",
            "  inflating: __MACOSX/W4A2/._.ipynb_checkpoints  \n",
            "  inflating: W4A2/images/2layerNN_kiank.png  \n",
            "  inflating: __MACOSX/W4A2/images/._2layerNN_kiank.png  \n",
            "  inflating: W4A2/images/my_image.jpg  \n",
            "  inflating: __MACOSX/W4A2/images/._my_image.jpg  \n",
            "  inflating: W4A2/images/imvector.png  \n",
            "  inflating: __MACOSX/W4A2/images/._imvector.png  \n",
            "  inflating: W4A2/images/LlayerNN_kiank.png  \n",
            "  inflating: __MACOSX/W4A2/images/._LlayerNN_kiank.png  \n",
            "  inflating: W4A2/images/imvectorkiank.png  \n",
            "  inflating: __MACOSX/W4A2/images/._imvectorkiank.png  \n",
            "  inflating: W4A2/datasets/test_catvnoncat.h5  \n",
            "  inflating: __MACOSX/W4A2/datasets/._test_catvnoncat.h5  \n",
            "  inflating: W4A2/datasets/train_catvnoncat.h5  \n",
            "  inflating: __MACOSX/W4A2/datasets/._train_catvnoncat.h5  \n",
            "  inflating: W4A2/__pycache__/test_utils.cpython-37.pyc  \n",
            "  inflating: __MACOSX/W4A2/__pycache__/._test_utils.cpython-37.pyc  \n",
            "  inflating: W4A2/__pycache__/public_tests.cpython-37.pyc  \n",
            "  inflating: __MACOSX/W4A2/__pycache__/._public_tests.cpython-37.pyc  \n",
            "  inflating: W4A2/__pycache__/dnn_app_utils_v3.cpython-37.pyc  \n",
            "  inflating: __MACOSX/W4A2/__pycache__/._dnn_app_utils_v3.cpython-37.pyc  \n",
            "  inflating: W4A2/.ipynb_checkpoints/Deep Neural Network - Application-checkpoint.ipynb  \n",
            "  inflating: __MACOSX/W4A2/.ipynb_checkpoints/._Deep Neural Network - Application-checkpoint.ipynb  \n"
          ]
        }
      ],
      "source": [
        "!unzip W4A2.zip"
      ]
    },
    {
      "cell_type": "code",
      "source": [
        "import numpy as np\n",
        "import matplotlib.pyplot as plt\n",
        "import math\n",
        "\n",
        "from dnn_app_utils_v3 import load_data"
      ],
      "metadata": {
        "id": "V3nSKGB3lYsB"
      },
      "execution_count": null,
      "outputs": []
    },
    {
      "cell_type": "code",
      "source": [
        "train_x_orig, train_y, test_x_orig, test_y, classes = load_data()"
      ],
      "metadata": {
        "id": "I57byPu7k0dV"
      },
      "execution_count": null,
      "outputs": []
    },
    {
      "cell_type": "code",
      "source": [
        "print(\"train x: \", train_x_orig.shape)\n",
        "print(\"train y: \", train_y.shape)\n",
        "print(\"test x: \", test_x_orig.shape)\n",
        "print(\"test y:\", test_y.shape)\n",
        "print(\"classes: \", classes)"
      ],
      "metadata": {
        "colab": {
          "base_uri": "https://localhost:8080/"
        },
        "id": "qhb6OCodlR2f",
        "outputId": "5f0adb9b-c0d6-4e01-9c9f-aca1384e3230"
      },
      "execution_count": null,
      "outputs": [
        {
          "output_type": "stream",
          "name": "stdout",
          "text": [
            "train x:  (209, 64, 64, 3)\n",
            "train y:  (1, 209)\n",
            "test x:  (50, 64, 64, 3)\n",
            "test y: (1, 50)\n",
            "classes:  [b'non-cat' b'cat']\n"
          ]
        }
      ]
    },
    {
      "cell_type": "code",
      "source": [
        "def show_image(x, y, classes):\n",
        "  plt.figure()\n",
        "  print(classes[y].decode(\"utf-8\"))\n",
        "  plt.imshow(x)\n",
        "\n",
        "show_image(train_x_orig[2], train_y[0][2], classes)\n",
        "show_image(train_x_orig[3], train_y[0][3], classes)\n",
        "plt.show()"
      ],
      "metadata": {
        "colab": {
          "base_uri": "https://localhost:8080/",
          "height": 883
        },
        "id": "NWEmJ7jXmKkE",
        "outputId": "409b1ac5-b4c0-4155-d7b4-54c26d579701"
      },
      "execution_count": null,
      "outputs": [
        {
          "output_type": "stream",
          "name": "stdout",
          "text": [
            "cat\n",
            "non-cat\n"
          ]
        },
        {
          "output_type": "display_data",
          "data": {
            "text/plain": [
              "<Figure size 640x480 with 1 Axes>"
            ],
            "image/png": "[encoded data removed]"
          },
          "metadata": {}
        },
        {
          "output_type": "display_data",
          "data": {
            "text/plain": [
              "<Figure size 640x480 with 1 Axes>"
            ],
            "image/png": "[encoded data removed]"
          },
          "metadata": {}
        }
      ]
    },
    {
      "cell_type": "code",
      "source": [
        "def print_shapes(X, Y):\n",
        "  print(\"X: \", X.shape)\n",
        "  print(\"Y: \", Y.shape)"
      ],
      "metadata": {
        "id": "cJgowoslpHQ6"
      },
      "execution_count": null,
      "outputs": []
    },
    {
      "cell_type": "code",
      "source": [
        "def preprocess_input(X):\n",
        "  m = X.shape[0]\n",
        "  new_X = (X.reshape(m, -1).T)\n",
        "  new_X = new_X/255\n",
        "  return new_X\n",
        "\n",
        "print(\"before precoressing: \")\n",
        "print_shapes(train_x_orig, train_y)\n",
        "print_shapes(test_x_orig, test_y)\n",
        "train_x = preprocess_input(train_x_orig)\n",
        "test_x = preprocess_input(test_x_orig)\n",
        "print(\"after preprocessing: \")\n",
        "print_shapes(train_x, train_y)\n",
        "print_shapes(test_x, test_y)\n"
      ],
      "metadata": {
        "colab": {
          "base_uri": "https://localhost:8080/"
        },
        "id": "xHgUu1nrnOSH",
        "outputId": "6124d266-8a28-4f35-f85f-f60f488647a0"
      },
      "execution_count": null,
      "outputs": [
        {
          "output_type": "stream",
          "name": "stdout",
          "text": [
            "before precoressing: \n",
            "X:  (209, 64, 64, 3)\n",
            "Y:  (1, 209)\n",
            "X:  (50, 64, 64, 3)\n",
            "Y:  (1, 50)\n",
            "after preprocessing: \n",
            "X:  (12288, 209)\n",
            "Y:  (1, 209)\n",
            "X:  (12288, 50)\n",
            "Y:  (1, 50)\n"
          ]
        }
      ]
    },
    {
      "cell_type": "code",
      "source": [
        "def print_params_stats(params):\n",
        "  for key, value in params.items():\n",
        "    print(key, value.shape)"
      ],
      "metadata": {
        "id": "_Q5VeSEkwBfy"
      },
      "execution_count": null,
      "outputs": []
    },
    {
      "cell_type": "code",
      "source": [
        "def initialize_parameters(layers_dims):\n",
        "  np.random.seed(1)\n",
        "  params = {}\n",
        "  for i in range(1, len(layers_dims)):\n",
        "    params[\"W\"+str(i)] = np.random.randn(layers_dims[i], layers_dims[i-1])/np.sqrt(layers_dims[i-1])\n",
        "    params[\"b\" + str(i)] = np.zeros((layers_dims[i], 1))\n",
        "  return params"
      ],
      "metadata": {
        "id": "akXuQfYEt6m7"
      },
      "execution_count": null,
      "outputs": []
    },
    {
      "cell_type": "code",
      "source": [
        "def relu(Z):\n",
        "  A = np.maximum(0, Z)\n",
        "  assert(A.shape == Z.shape)\n",
        "  return A"
      ],
      "metadata": {
        "id": "c4YzKU2t5jVB"
      },
      "execution_count": null,
      "outputs": []
    },
    {
      "cell_type": "code",
      "source": [
        "def sigmoid(Z):\n",
        "  A = 1/(1 + np.exp(-Z))\n",
        "  # print(\"Z: \", Z)\n",
        "  # print(\"A: \", A)\n",
        "  assert(A.shape == Z.shape)\n",
        "  return A"
      ],
      "metadata": {
        "id": "tFo_LhEa6okw"
      },
      "execution_count": null,
      "outputs": []
    },
    {
      "cell_type": "code",
      "source": [
        "def linear_forward_prop(W, X, b, activation):\n",
        "  \"\"\"\n",
        "  W: (n{l}, n{l-1})\n",
        "  X: (n{l-1}, m)\n",
        "  b: (n{l}, 1)\n",
        "  activation: \"sigmoid\" or \"relu\"\n",
        "  \"\"\"\n",
        "  Z = np.dot(W, X) + b\n",
        "  A = np.zeros(Z.shape)\n",
        "  if activation == \"sigmoid\":\n",
        "    A = sigmoid(Z)\n",
        "    # print(\"forward prop AL (1): \", A)\n",
        "  else:\n",
        "    A = relu(Z)\n",
        "\n",
        "\n",
        "  return A, Z"
      ],
      "metadata": {
        "id": "vlVeG0XF1Wvc"
      },
      "execution_count": null,
      "outputs": []
    },
    {
      "cell_type": "code",
      "source": [
        "def forward_prop(params, x):\n",
        "  \"\"\"\n",
        "  nx: 12288\n",
        "  m: 209\n",
        "  x: (nx, m)\n",
        "  params: {\"W1\", \"b1\", \"W2\", \"b2\",........}\n",
        "\n",
        "  Z1 = W1X + b1\n",
        "  A1 = Relu(Z1)\n",
        "\n",
        "  Z2 = W2A1 + b2\n",
        "  A2 = Relu(Z2)\n",
        "  .....\n",
        "  ZL = W{L}A{L-1} + bL\n",
        "  AL = sigmoid(ZL)\n",
        "  \"\"\"\n",
        "  L = len(params)//2\n",
        "  cache = {}\n",
        "  A_prev = x\n",
        "  cache[\"A0\"] = A_prev\n",
        "\n",
        "  for l in range(1, L):\n",
        "    A, Z = linear_forward_prop(params[\"W\" + str(l)], A_prev, params[\"b\" + str(l)], \"relu\")\n",
        "    cache[\"Z\" + str(l)] = Z\n",
        "    cache[\"A\" + str(l)] = A\n",
        "    A_prev = A\n",
        "\n",
        "  A, Z = linear_forward_prop(params[\"W\" + str(L)], A_prev, params[\"b\" + str(L)], \"sigmoid\")\n",
        "  cache[\"Z\" + str(L)] = Z\n",
        "  cache[\"A\" + str(L)] = A\n",
        "\n",
        "  # print(\"forward prop AL (2): \", A)\n",
        "\n",
        "  return cache, A\n"
      ],
      "metadata": {
        "id": "c5J4j1idxtae"
      },
      "execution_count": null,
      "outputs": []
    },
    {
      "cell_type": "code",
      "source": [
        "def compute_cost(A, Y):\n",
        "  \"\"\"\n",
        "  m: 209\n",
        "  A: (1, m)\n",
        "  Y: (1, m)\n",
        "\n",
        "  \"\"\"\n",
        "  m = Y.shape[1]\n",
        "  # print(\"Y: \", Y)\n",
        "  # print(\"A: \", A)\n",
        "  # loss1 = np.sum()\n",
        "  # loss2 = np.sum()\n",
        "  # print(\"loss1: \", loss1)\n",
        "  # print(\"loss2: \", loss2)\n",
        "  sum = float(0)\n",
        "  # for i in range(m):\n",
        "  #   y_curr = Y[0][i]\n",
        "  #   a_curr = A[0][i]\n",
        "  #   # print(i, end = \": \")\n",
        "  #   # print(a_curr)\n",
        "  #   sum = sum + y_curr*math.log(a_curr) + (1-y_curr)*(math.log(1-a_curr))\n",
        "\n",
        "  sum = np.dot(Y,np.log(A).T) + np.dot((1-Y), (np.log(1-A)).T)\n",
        "  cost = (1./m) * (-sum)\n",
        "\n",
        "  cost = float(np.squeeze(cost))     # To make sure your cost's shape is what we expect (e.g. this turns [[17]] into 17).\n",
        "  # assert(cost.shape == ())\n",
        "\n",
        "  return cost"
      ],
      "metadata": {
        "id": "-ugMpo0cx53m"
      },
      "execution_count": null,
      "outputs": []
    },
    {
      "cell_type": "code",
      "source": [
        "def backward_prop(cache, params, X, Y):\n",
        "  \"\"\"\n",
        "  nx: 12288\n",
        "  m: 209\n",
        "  X: (nx, m)\n",
        "  Y: (1, m)\n",
        "\n",
        "  Z1 = W1X + b1\n",
        "  A1 = Relu(Z1)\n",
        "\n",
        "  Z2 = W2A1 + b2\n",
        "  A2 = Relu(Z2)\n",
        "  .....\n",
        "  ZL = W{L}A{L-1} + bL\n",
        "  AL = sigmoid(ZL)\n",
        "\n",
        "  \"\"\"\n",
        "  m = Y.shape[1]\n",
        "  L = len(params)//2\n",
        "  grads = {}\n",
        "  dZL = cache[\"A\" + str(L)] - Y\n",
        "  grads[\"dZ\" + str(L)] = dZL\n",
        "  grads[\"dW\" + str(L)] = (1/m)*np.dot(dZL, cache[\"A\" + str(L-1)].T)\n",
        "  grads[\"db\" + str(L)] = (1/m)*np.sum(dZL, axis = 1, keepdims = True)\n",
        "  dA_prev = np.dot((params[\"W\" + str(L)]).T, dZL)\n",
        "  grads[\"dA\" + str(L-1)] = dA_prev\n",
        "\n",
        "  for i in range(L-1, 0, -1):\n",
        "    Z_prev = cache[\"Z\" + str(i)]\n",
        "    dZ = dA_prev * ((Z_prev>0)*1.0)\n",
        "    grads[\"dZ\" + str(i)] = dZ\n",
        "    grads[\"dW\" + str(i)] = (1/m)*np.dot(dZ, cache[\"A\" + str(i-1)].T)\n",
        "    grads[\"db\" + str(i)] = (1/m)*np.sum(dZ, axis = 1, keepdims = True)\n",
        "    dA_prev = np.dot((params[\"W\" + str(i)]).T, dZ)\n",
        "    grads[\"dA\" + str(i-1)] = dA_prev\n",
        "\n",
        "  return grads\n"
      ],
      "metadata": {
        "id": "gaeclU_8yNLn"
      },
      "execution_count": null,
      "outputs": []
    },
    {
      "cell_type": "code",
      "source": [
        "def update_params(grads, params, learning_rate):\n",
        "  \"\"\"\n",
        "  grads: {\"dW1\", \"db1\", \"dW2\", \"db2\".......}\n",
        "  params: {\"W1\", \"b1\", \"W2\", \"b2\",........}\n",
        "  learning_rate: int\n",
        "  \"\"\"\n",
        "  # print(params)\n",
        "  L = len(params) // 2\n",
        "\n",
        "  for i in range(1, L+1):\n",
        "    params[\"W\" + str(i)] = params[\"W\" + str(i)] - learning_rate*grads[\"dW\" + str(i)]\n",
        "    params[\"b\" + str(i)] = params[\"b\" + str(i)] - learning_rate*grads[\"db\" + str(i)]\n",
        "\n",
        "  return params"
      ],
      "metadata": {
        "id": "1_6COc6Eyauk"
      },
      "execution_count": null,
      "outputs": []
    },
    {
      "cell_type": "code",
      "source": [
        "def model(X, Y, layers_dims, num_iterations = 2500, learning_rate = 0.0075):\n",
        "  \"\"\"\n",
        "  nx: 12288\n",
        "  m: 209\n",
        "  X: (nx, m)\n",
        "  y: (1, m)\n",
        "\n",
        "  \"\"\"\n",
        "  np.random.seed(1)\n",
        "  L = len(layers_dims) - 1\n",
        "  params = initialize_parameters(layers_dims)\n",
        "  sum_cost = 0\n",
        "  prev_avg = 100\n",
        "  # print_params_stats(params)\n",
        "\n",
        "  for i in range(num_iterations):\n",
        "    cache = {}\n",
        "    # print(\"itr: \", i, end = \" \")\n",
        "    # print(\"b4: \", params[\"b4\"])\n",
        "    cache, AL = forward_prop(params, X)\n",
        "    # print(cache.keys())\n",
        "    # print([val.shape for val in cache.values()])\n",
        "    # print(\"Z4: \", cache[\"Z4\"])\n",
        "    # print(\"A4: \", cache[\"A4\"])\n",
        "    cost = compute_cost(AL, Y)\n",
        "    # print(cost)\n",
        "    # print(cache.keys())\n",
        "    grads = backward_prop(cache, params, X, Y)\n",
        "    # print(\"params: \", params)\n",
        "    params = update_params(grads, params, learning_rate)\n",
        "\n",
        "    sum_cost += cost\n",
        "\n",
        "    if i%100==0:\n",
        "      print(\"itr: \", i, end = \" \")\n",
        "      print(\"cost: \", cost)\n",
        "\n",
        "      new_avg = sum_cost / 100\n",
        "\n",
        "      if(prev_avg < new_avg):\n",
        "        learning_rate = learning_rate * 0.9\n",
        "        print(\"new alpha: \", learning_rate)\n",
        "        print(\"prev: \", prev_avg)\n",
        "        print(\"new: \", new_avg)\n",
        "      prev_avg = new_avg\n",
        "      sum_cost = 0\n",
        "\n",
        "  return params"
      ],
      "metadata": {
        "id": "d79E0XRMpqV9"
      },
      "execution_count": null,
      "outputs": []
    },
    {
      "cell_type": "code",
      "source": [
        "def predict(params, X, Y):\n",
        "  \"\"\"\n",
        "  X: (nx, m)\n",
        "  params: {\"W1\", \"b1\", \"W2\", \"b2\",........}\n",
        "  \"\"\"\n",
        "  m = X.shape[1]\n",
        "  cache, AL = forward_prop(params, X)\n",
        "\n",
        "  preds = (AL>0.5)*1.0\n",
        "\n",
        "  accuracy = (np.sum((preds==Y)))/m\n",
        "  return accuracy"
      ],
      "metadata": {
        "id": "QmcInA2EOHG9"
      },
      "execution_count": null,
      "outputs": []
    },
    {
      "cell_type": "code",
      "source": [
        "layers_dims = [12288, 20, 7, 5, 1] #  4-layer model\n",
        "np.random.seed(1)\n",
        "params = model(X = train_x, Y = train_y, layers_dims = layers_dims, num_iterations = 2500, learning_rate = 0.01)\n"
      ],
      "metadata": {
        "colab": {
          "base_uri": "https://localhost:8080/"
        },
        "id": "cXm8t7jMslgY",
        "outputId": "d51878b9-5945-4b2b-aa13-381ba37f8b7e"
      },
      "execution_count": null,
      "outputs": [
        {
          "output_type": "stream",
          "name": "stdout",
          "text": [
            "itr:  0 cost:  0.7717493284237686\n",
            "itr:  100 cost:  0.6692696631401116\n",
            "new alpha:  0.009000000000000001\n",
            "prev:  0.007717493284237686\n",
            "new:  0.6804131971375047\n",
            "itr:  200 cost:  0.6543794549598129\n",
            "itr:  300 cost:  0.6301393677517347\n",
            "itr:  400 cost:  0.5706285718713443\n",
            "itr:  500 cost:  0.4789356172991309\n",
            "itr:  600 cost:  0.4069071926311317\n",
            "itr:  700 cost:  0.3652826252002664\n",
            "itr:  800 cost:  0.28310909345124863\n",
            "itr:  900 cost:  0.2599361529926321\n",
            "itr:  1000 cost:  0.19485417699082325\n",
            "itr:  1100 cost:  0.15957358439778987\n",
            "itr:  1200 cost:  0.136436179503654\n",
            "itr:  1300 cost:  0.1184674741327349\n",
            "itr:  1400 cost:  0.10169340419650613\n",
            "itr:  1500 cost:  0.0884494331816454\n",
            "itr:  1600 cost:  0.07847755555409185\n",
            "itr:  1700 cost:  0.07021667578225281\n",
            "itr:  1800 cost:  0.0620524536068718\n",
            "itr:  1900 cost:  0.057440544055342865\n",
            "itr:  2000 cost:  0.050821738496859226\n",
            "itr:  2100 cost:  0.045842290766639954\n",
            "itr:  2200 cost:  0.04147211706259087\n",
            "itr:  2300 cost:  0.037995304420297034\n",
            "itr:  2400 cost:  0.03485882507323315\n"
          ]
        }
      ]
    },
    {
      "cell_type": "code",
      "source": [
        "train_acc = predict(params, train_x, train_y)\n",
        "test_acc = predict(params, test_x, test_y)\n",
        "\n",
        "print(\"Training accuracy: \", train_acc)\n",
        "print(\"Test accuracy: \", test_acc)"
      ],
      "metadata": {
        "colab": {
          "base_uri": "https://localhost:8080/"
        },
        "id": "7jv7VaKeTWWz",
        "outputId": "5199c0a9-ab95-4507-ad01-5bddb5c5e68a"
      },
      "execution_count": null,
      "outputs": [
        {
          "output_type": "stream",
          "name": "stdout",
          "text": [
            "Training accuracy:  1.0\n",
            "Test accuracy:  0.8\n"
          ]
        }
      ]
    },
    {
      "cell_type": "code",
      "source": [],
      "metadata": {
        "id": "fjz7wd-UTd7C"
      },
      "execution_count": null,
      "outputs": []
    }
  ]
}